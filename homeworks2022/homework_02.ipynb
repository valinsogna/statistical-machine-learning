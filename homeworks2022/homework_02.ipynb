{
 "cells": [
  {
   "cell_type": "markdown",
   "metadata": {},
   "source": [
    "## Homework 02"
   ]
  },
  {
   "cell_type": "markdown",
   "metadata": {},
   "source": [
    "### Exercise 1\n",
    "\n",
    "$0.3$% of the population has an unknown virus and a test is being developed. This test gives a false positive $10\\%$ of the time and a false negative $5\\%$ of the time. \n",
    "\n",
    "1. Calculate the probability that you are positive to the test.\n",
    "2. Suppose you are positive to the test. What is the probability that you contracted the disease?\n"
   ]
  },
  {
   "cell_type": "markdown",
   "metadata": {},
   "source": [
    "\n",
    "### Exercise 2\n",
    "\n",
    "Implement the empirical cumulative distribution function $F_X(x)=$ `cdf(dist, x, n_samples)` taking as inputs a `pyro.distributions` object `dist`, corresponding to the distribution of $X$, a real value `x` and the number of samples `n_samples`.\n",
    "\n",
    "The function `cdf(dist, x, n_samples)` should return the value of $F_X$ at `x` and also plot the cdf.\n",
    "\n",
    "Suppose that $X\\sim \\text{Exp}(0.5)$. Using your function, plot $F_X$ and compute $F_X(x=2)$.\n"
   ]
  },
  {
   "cell_type": "markdown",
   "metadata": {},
   "source": [
    "\n",
    "### Exercise 3\n",
    "\n",
    "Suppose the heights of female students are normally distributed with unknown mean $\\mu$ and known variance $6^2$. \n",
    "\n",
    "Suppose that $\\mu$ is in the range $[155,175]$ with approximately $95\\%$ probability and assign to $\\mu$ a normal $\\mathcal{N}(160,3^2)$ prior distribution.\n",
    "\n",
    "1. Using the cdf from the previous exercise, empirically verify that the prior probability that  $\\mu\\in[155,175]$ is approximately $95\\%$.\n",
    "2. Analytically derive the posterior distribution for a set of observations of heights $x=[x_1,\\ldots,x_n]$.\n",
    "2. Plot the posterior distribution corresponding to the data $x=[174, 158, 194, 167]$ together with the prior distribution."
   ]
  },
  {
   "cell_type": "markdown",
   "metadata": {},
   "source": [
    "\n",
    "\n",
    "### Exercise 4\n",
    "\n",
    "Prove that the Beta distribution is a conjugate prior distribution for the Geometric likelihood."
   ]
  }
 ],
 "metadata": {
  "kernelspec": {
   "display_name": "Python 3",
   "language": "python",
   "name": "python3"
  },
  "language_info": {
   "codemirror_mode": {
    "name": "ipython",
    "version": 3
   },
   "file_extension": ".py",
   "mimetype": "text/x-python",
   "name": "python",
   "nbconvert_exporter": "python",
   "pygments_lexer": "ipython3",
   "version": "3.6.9"
  }
 },
 "nbformat": 4,
 "nbformat_minor": 4
}
